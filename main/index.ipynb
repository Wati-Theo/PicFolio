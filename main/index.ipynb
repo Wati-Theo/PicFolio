{
 "cells": [
  {
   "cell_type": "markdown",
   "metadata": {},
   "source": [
    "# Create a SQLITE DB"
   ]
  },
  {
   "cell_type": "code",
   "execution_count": 2,
   "metadata": {},
   "outputs": [],
   "source": [
    "import sqlite3\n",
    "\n",
    "# Connect to the database file\n",
    "connection = sqlite3.connect('data.db')\n",
    "\n",
    "# Create a cursor object\n",
    "cursor = connection.cursor()\n",
    "\n",
    "# Create the table\n",
    "create_table_sql = \"\"\"\n",
    "CREATE TABLE asset (\n",
    "    name TEXT PRIMARY KEY UNIQUE NOT NULL,\n",
    "    date DateTime NOT NULL,\n",
    "    isphoto BOOL NOT NULL DEFAULT TRUE\n",
    ");\n",
    "\"\"\"\n",
    "\n",
    "cursor.execute(create_table_sql)\n",
    "\n",
    "add_row = \"\"\"\n",
    "INSERT INTO asset (name, date)\n",
    "VALUES ('image.png', '2023-11-08 19:50:12');\n",
    "\"\"\"\n",
    "\n",
    "cursor.execute(add_row)\n",
    "\n",
    "delete_row = \"\"\"\n",
    "    DELETE FROM asset\n",
    "    WHERE name = 'image.png';\n",
    "\"\"\"\n",
    "\n",
    "cursor.execute(delete_row)\n",
    "\n",
    "# Commit the changes and close the connection\n",
    "connection.commit()\n",
    "connection.close()\n",
    "\n"
   ]
  }
 ],
 "metadata": {
  "kernelspec": {
   "display_name": "Python 3",
   "language": "python",
   "name": "python3"
  },
  "language_info": {
   "codemirror_mode": {
    "name": "ipython",
    "version": 3
   },
   "file_extension": ".py",
   "mimetype": "text/x-python",
   "name": "python",
   "nbconvert_exporter": "python",
   "pygments_lexer": "ipython3",
   "version": "3.11.4"
  }
 },
 "nbformat": 4,
 "nbformat_minor": 2
}
